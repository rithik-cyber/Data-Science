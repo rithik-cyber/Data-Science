{
 "cells": [
  {
   "cell_type": "markdown",
   "id": "014bf046-b0ee-4d46-bbf0-737c99b1e397",
   "metadata": {},
   "source": [
    "# Data Science Final Project\n"
   ]
  },
  {
   "cell_type": "markdown",
   "id": "c57fbba2-fa47-44f5-9d81-043464e67407",
   "metadata": {},
   "source": [
    "## Intoduction\n",
    "This notebook explores various concepts of data science, including languages, libraries, and tools. We will demonstrate some basic examples and exercises in this notebook."
   ]
  },
  {
   "cell_type": "markdown",
   "id": "7d045005-3140-49d0-b6fd-91d7faa606de",
   "metadata": {},
   "source": [
    "## Data Science Languages\n",
    "- Python\n",
    "- R\n",
    "- SQL\n",
    "- Julia\n",
    "- Scala"
   ]
  },
  {
   "cell_type": "markdown",
   "id": "00534bc9-48d1-4e9b-827d-5aaef02d9b31",
   "metadata": {},
   "source": [
    "## Data Science Libraries\n",
    "- Pandas\n",
    "- NumPy\n",
    "- Matplotlib\n",
    "- TensorFlow\n",
    "- scikit-learn"
   ]
  },
  {
   "cell_type": "markdown",
   "id": "79ba6888-8c0d-4de0-afd1-a3f9a32ab46e",
   "metadata": {},
   "source": [
    "## Data Science Tools\n",
    "| Tool          | Purpose                          |\n",
    "|---------------|----------------------------------|\n",
    "| Jupyter       | Interactive notebook environment |\n",
    "| RStudio       | IDE for R programming            |\n",
    "| GitHub        | Version control and collaboration|\n",
    "| TensorFlow    | Machine learning framework       |\n",
    "| Hadoop        | Big data processing              |"
   ]
  },
  {
   "cell_type": "markdown",
   "id": "89e0a55e-e5e1-4ad7-a190-b1e27f429a77",
   "metadata": {},
   "source": [
    "## Arithmetic Expression Examples\n",
    "Below we will demonstrate some basic arithmetic expressions in Python."
   ]
  },
  {
   "cell_type": "code",
   "execution_count": 1,
   "id": "6139c317-44e5-4a33-b711-749ab02e62ac",
   "metadata": {},
   "outputs": [
    {
     "data": {
      "text/plain": [
       "53"
      ]
     },
     "execution_count": 1,
     "metadata": {},
     "output_type": "execute_result"
    }
   ],
   "source": [
    "result = (5 * 10) + 3\n",
    "result"
   ]
  },
  {
   "cell_type": "code",
   "execution_count": 2,
   "id": "afdc9460-bfc9-47b6-a64c-7a43c4eacebf",
   "metadata": {},
   "outputs": [
    {
     "data": {
      "text/plain": [
       "2.0"
      ]
     },
     "execution_count": 2,
     "metadata": {},
     "output_type": "execute_result"
    }
   ],
   "source": [
    "def minutes_to_hours(minutes):\n",
    "    return minutes / 60\n",
    "\n",
    "minutes_to_hours(120)"
   ]
  },
  {
   "cell_type": "markdown",
   "id": "d059071e-c30d-49d5-846d-ab3f599adda8",
   "metadata": {},
   "source": [
    "## Objectives\n",
    "- Understand common data science languages and libraries\n",
    "- Practice basic arithmetic operations\n",
    "- Learn to use GitHub for version control"
   ]
  },
  {
   "cell_type": "markdown",
   "id": "c48243f5-02c8-4841-bff9-b6b8c5bb9bd9",
   "metadata": {},
   "source": [
    "## Author\n",
    "Rithik"
   ]
  },
  {
   "cell_type": "code",
   "execution_count": null,
   "id": "8a90eae1-ecd2-461a-a305-a81373593e4b",
   "metadata": {},
   "outputs": [],
   "source": []
  }
 ],
 "metadata": {
  "kernelspec": {
   "display_name": "Python 3 (ipykernel)",
   "language": "python",
   "name": "python3"
  },
  "language_info": {
   "codemirror_mode": {
    "name": "ipython",
    "version": 3
   },
   "file_extension": ".py",
   "mimetype": "text/x-python",
   "name": "python",
   "nbconvert_exporter": "python",
   "pygments_lexer": "ipython3",
   "version": "3.11.0"
  }
 },
 "nbformat": 4,
 "nbformat_minor": 5
}
